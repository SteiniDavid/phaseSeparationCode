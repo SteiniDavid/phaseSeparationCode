{
 "cells": [
  {
   "cell_type": "code",
   "execution_count": 34,
   "metadata": {},
   "outputs": [],
   "source": [
    "import gsd\n",
    "import os\n",
    "from gsd import pygsd\n",
    "from gsd import hoomd"
   ]
  },
  {
   "cell_type": "code",
   "execution_count": 54,
   "metadata": {},
   "outputs": [],
   "source": [
    "import os\n",
    "import errno\n",
    "\n",
    "try:\n",
    "    os.makedirs('LFGSDS')\n",
    "except OSError as exception:\n",
    "    if exception.errno != errno.EEXIST:\n",
    "        raise\n",
    "files = os.listdir('gsds')\n",
    "\n",
    "for fil in files:\n",
    "    f = pygsd.GSDFile(open(fil, mode='rb')); #opens file\n",
    "\n",
    "    numFrames = f.nframes\n",
    "\n",
    "    t = gsd.hoomd.HOOMDTrajectory(f);\n",
    "\n",
    "    lastFrame = t.read_frame(numFrames-1)\n",
    "\n",
    "    gsd.hoomd.create('LFGSDS/pa90_pb150_xa80LF.gsd', lastFrame)"
   ]
  },
  {
   "cell_type": "code",
   "execution_count": 17,
   "metadata": {},
   "outputs": [],
   "source": []
  },
  {
   "cell_type": "code",
   "execution_count": 18,
   "metadata": {},
   "outputs": [],
   "source": []
  },
  {
   "cell_type": "code",
   "execution_count": null,
   "metadata": {},
   "outputs": [],
   "source": []
  },
  {
   "cell_type": "code",
   "execution_count": null,
   "metadata": {},
   "outputs": [],
   "source": []
  }
 ],
 "metadata": {
  "kernelspec": {
   "display_name": "Python 2",
   "language": "python",
   "name": "python2"
  },
  "language_info": {
   "codemirror_mode": {
    "name": "ipython",
    "version": 2
   },
   "file_extension": ".py",
   "mimetype": "text/x-python",
   "name": "python",
   "nbconvert_exporter": "python",
   "pygments_lexer": "ipython2",
   "version": "2.7.15"
  }
 },
 "nbformat": 4,
 "nbformat_minor": 2
}
