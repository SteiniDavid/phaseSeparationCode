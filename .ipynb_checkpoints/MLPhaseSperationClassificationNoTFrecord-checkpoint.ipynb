{
 "cells": [
  {
   "cell_type": "code",
   "execution_count": 1,
   "metadata": {},
   "outputs": [],
   "source": [
    "import os"
   ]
  },
  {
   "cell_type": "code",
   "execution_count": 5,
   "metadata": {},
   "outputs": [],
   "source": [
    "base_dir = '/Users/Steini/Klosta Group/phaseSeparation/Data/LFPICSGrouped'\n",
    "train_dir = os.path.join(base_dir, 'LFPICSTrain')\n",
    "validation_dir = os.path.join(base_dir, 'LFPICSValidation')\n",
    "\n",
    "# Directory with our training LFPICS0 cat pictures\n",
    "train_LFPICSTrain0_dir = os.path.join(train_dir, 'LFPICSTrain0')\n",
    "\n",
    "# Directory with our training LFPICS1 dog pictures\n",
    "train_LFPICSTrain1_dir = os.path.join(train_dir, 'LFPICSTrain1')\n",
    "\n",
    "# Directory with our validation LFPICS0 pictures\n",
    "validation_LFPICSValidation0_dir = os.path.join(validation_dir, 'LFPICSValidation0')\n",
    "\n",
    "# Directory with our validation LFPICS1 pictures\n",
    "validation_LFPICSValidation1_dir = os.path.join(validation_dir, 'LFPICSValidation1')"
   ]
  },
  {
   "cell_type": "code",
   "execution_count": 6,
   "metadata": {},
   "outputs": [
    {
     "name": "stdout",
     "output_type": "stream",
     "text": [
      "['final_tstep_pa0_pb70_xa30_ph0.png', 'final_tstep_pa0_pb10_xa70_ph0.png', 'final_tstep_pa10_pb90_xa70_ph0.png', 'final_tstep_pa0_pb10_xa60_ph0.png', 'final_tstep_pa10_pb90_xa60_ph0.png', 'final_tstep_pa0_pb30_xa20_ph0.png', 'final_tstep_pa0_pb50_xa70_ph0.png', 'final_tstep_pa0_pb50_xa60_ph0.png', 'final_tstep_pa30_pb90_xa80_ph0.png', 'final_tstep_pa30_pb90_xa90_ph0.png']\n",
      "['final_tstep_pa0_pb100_xa10_ph1.png', 'final_tstep_pa0_pb100_xa40_ph1.png', 'final_tstep_pa0_pb100_xa50_ph1.png', 'final_tstep_pa0_pb110_xa10_ph1.png', 'final_tstep_pa0_pb110_xa20_ph1.png', 'final_tstep_pa0_pb110_xa40_ph1.png', 'final_tstep_pa0_pb110_xa60_ph1.png', 'final_tstep_pa0_pb120_xa20_ph1.png', 'final_tstep_pa0_pb120_xa30_ph1.png', 'final_tstep_pa0_pb120_xa40_ph1.png']\n"
     ]
    }
   ],
   "source": [
    "train_LFPICSTrain0_fnames = os.listdir(train_LFPICSTrain0_dir)\n",
    "print train_LFPICSTrain0_fnames[:10]\n",
    "\n",
    "train_LFPICSTrain1_fnames = os.listdir(train_LFPICSTrain1_dir)\n",
    "train_LFPICSTrain1_fnames.sort()\n",
    "print train_LFPICSTrain1_fnames[:10]"
   ]
  },
  {
   "cell_type": "code",
   "execution_count": 7,
   "metadata": {},
   "outputs": [
    {
     "name": "stdout",
     "output_type": "stream",
     "text": [
      "total training LFPICSTrain0 images: 229\n",
      "total training LFPICSTrain1 images: 635\n",
      "total validation LFPICSValidation0 images: 62\n",
      "total validation LFPICSValidation1 images: 156\n"
     ]
    }
   ],
   "source": [
    "print 'total training LFPICSTrain0 images:', len(os.listdir(train_LFPICSTrain0_dir))\n",
    "print 'total training LFPICSTrain1 images:', len(os.listdir(train_LFPICSTrain1_dir))\n",
    "print 'total validation LFPICSValidation0 images:', len(os.listdir(validation_LFPICSValidation0_dir))\n",
    "print 'total validation LFPICSValidation1 images:', len(os.listdir(validation_LFPICSValidation1_dir))"
   ]
  },
  {
   "cell_type": "code",
   "execution_count": 8,
   "metadata": {},
   "outputs": [],
   "source": [
    "%matplotlib inline\n",
    "\n",
    "import matplotlib.pyplot as plt\n",
    "import matplotlib.image as mpimg\n",
    "\n",
    "# Parameters for our graph; we'll output images in a 4x4 configuration\n",
    "nrows = 4\n",
    "ncols = 4\n",
    "\n",
    "# Index for iterating over images\n",
    "pic_index = 0"
   ]
  },
  {
   "cell_type": "code",
   "execution_count": null,
   "metadata": {},
   "outputs": [],
   "source": [
    "# Set up matplotlib fig, and size it to fit 4x4 pics\n",
    "fig = plt.gcf()\n",
    "fig.set_size_inches(ncols * 4, nrows * 4)\n",
    "\n",
    "pic_index += 8\n",
    "next_LFPICSTrain0_pix = [os.path.join(train_LFPICSTrain0_dir, fname) \n",
    "                for fname in train_LFPICSTrain0_fnames[pic_index-8:pic_index]]\n",
    "next_LFPICSTrain1_pix = [os.path.join(train_LFPICSTrain1_dir, fname) \n",
    "                for fname in train_LFPICSTrain1_fnames[pic_index-8:pic_index]]\n",
    "\n",
    "for i, img_path in enumerate(next_LFPICSTrain0_pix+next_LFPICSTrain1_pix):\n",
    "  # Set up subplot; subplot indices start at 1\n",
    "  sp = plt.subplot(nrows, ncols, i + 1)\n",
    "  sp.axis('Off') # Don't show axes (or gridlines)\n",
    "\n",
    "  img = mpimg.imread(img_path)\n",
    "  plt.imshow(img)\n",
    "\n",
    "plt.show()"
   ]
  },
  {
   "cell_type": "code",
   "execution_count": null,
   "metadata": {},
   "outputs": [],
   "source": []
  },
  {
   "cell_type": "code",
   "execution_count": null,
   "metadata": {},
   "outputs": [],
   "source": []
  }
 ],
 "metadata": {
  "kernelspec": {
   "display_name": "Python 2",
   "language": "python",
   "name": "python2"
  },
  "language_info": {
   "codemirror_mode": {
    "name": "ipython",
    "version": 2
   },
   "file_extension": ".py",
   "mimetype": "text/x-python",
   "name": "python",
   "nbconvert_exporter": "python",
   "pygments_lexer": "ipython2",
   "version": "2.7.15"
  }
 },
 "nbformat": 4,
 "nbformat_minor": 2
}
