{
 "cells": [
  {
   "cell_type": "code",
   "execution_count": 38,
   "metadata": {},
   "outputs": [],
   "source": [
    "import sys, random, os\n",
    "import glob\n",
    "import shutil"
   ]
  },
  {
   "cell_type": "code",
   "execution_count": 2,
   "metadata": {},
   "outputs": [
    {
     "name": "stdout",
     "output_type": "stream",
     "text": [
      "/Users/Steini/Klosta Group/phaseSeparation/phaseSeparationCode\n"
     ]
    }
   ],
   "source": [
    "print os.getcwd()"
   ]
  },
  {
   "cell_type": "code",
   "execution_count": 3,
   "metadata": {},
   "outputs": [],
   "source": [
    "base_dir = '/Users/Steini/Klosta Group/phaseSeparation'\n",
    "train_dir = os.path.join(base_dir, 'Data/LFPICS')"
   ]
  },
  {
   "cell_type": "code",
   "execution_count": 4,
   "metadata": {},
   "outputs": [
    {
     "name": "stdout",
     "output_type": "stream",
     "text": [
      "/Users/Steini/Klosta Group/phaseSeparation/Data/LFPICS\n"
     ]
    }
   ],
   "source": [
    "print train_dir"
   ]
  },
  {
   "cell_type": "code",
   "execution_count": 6,
   "metadata": {},
   "outputs": [],
   "source": [
    "# def splitdirs(files, dir1, dir2, ratio):\n",
    "#     shuffled = files[:]\n",
    "#     random.shuffle(shuffled)\n",
    "#     num = round(len(shuffled) * ratio)\n",
    "#     to_dir1, to_dir2 = shuffled[:num], shuffled[num:]\n",
    "#     for d in dir1, dir2:\n",
    "#         if not os.path.exists(d):\n",
    "#             os.mkdir(d)\n",
    "#     for file in to_dir1:\n",
    "#         os.symlink(file, os.path.join(dir1, os.path.basename(file)))\n",
    "#     for file in to_dir2:\n",
    "#         os.symlink(file, os.path.join(dir2, os.path.basename(file)))"
   ]
  },
  {
   "cell_type": "code",
   "execution_count": 15,
   "metadata": {},
   "outputs": [
    {
     "name": "stdout",
     "output_type": "stream",
     "text": [
      "/Users/Steini/Klosta Group/phaseSeparation\n"
     ]
    }
   ],
   "source": [
    "os.chdir(\"..\")\n",
    "print os.getcwd()\n",
    "os.chdir(\"Data\")\n",
    "LastFramePicture_path = 'LFPICS/*.png'\n",
    "\n",
    "# read addresses and labels from the 'train' folder\n",
    "addrs = glob.glob(LastFramePicture_path)"
   ]
  },
  {
   "cell_type": "code",
   "execution_count": 20,
   "metadata": {},
   "outputs": [],
   "source": [
    "shuffled = addrs[:]\n",
    "random.shuffle(shuffled)"
   ]
  },
  {
   "cell_type": "code",
   "execution_count": 34,
   "metadata": {},
   "outputs": [
    {
     "name": "stdout",
     "output_type": "stream",
     "text": [
      "1080\n",
      "864\n"
     ]
    }
   ],
   "source": [
    "length = len(shuffled)\n",
    "print length\n",
    "numInTrain = int(length*.8)\n",
    "print numInTrain"
   ]
  },
  {
   "cell_type": "code",
   "execution_count": 35,
   "metadata": {},
   "outputs": [],
   "source": [
    "trainAddrs = shuffled[0:numInTrain]\n",
    "validationAddrs = shuffled[numInTrain:]"
   ]
  },
  {
   "cell_type": "code",
   "execution_count": 40,
   "metadata": {},
   "outputs": [],
   "source": [
    "for files in trainAddrs:\n",
    "    shutil.move(files,'/Users/Steini/Klosta Group/phaseSeparation/Data/LFPICSTrain')"
   ]
  },
  {
   "cell_type": "code",
   "execution_count": 46,
   "metadata": {},
   "outputs": [],
   "source": [
    "LFPICSTrainNotPhasePaths = 'LFPICSTrain/*0.png'\n",
    "LFPICSTrainPhasePaths = 'LFPICSTrain/*1.png'\n",
    "LFPICSTrainNotPhasePathsAddrs = glob.glob(LFPICSTrainNotPhasePaths)\n",
    "LFPICSTrainPhasePathsAddrs = glob.glob(LFPICSTrainPhasePaths)\n",
    "\n",
    "LFPICSValidationNotPhasePaths = 'LFPICSValidation/*0.png'\n",
    "LFPICSValidationPhasePaths = 'LFPICSValidation/*1.png'\n",
    "LFPICSValidationNotPhasePathsAddrs = glob.glob(LFPICSValidationNotPhasePaths)\n",
    "LFPICSValidationPhasePathsAddrs = glob.glob(LFPICSValidationPhasePaths)\n"
   ]
  },
  {
   "cell_type": "code",
   "execution_count": 47,
   "metadata": {},
   "outputs": [
    {
     "name": "stdout",
     "output_type": "stream",
     "text": [
      "229\n",
      "635\n",
      "61\n",
      "155\n"
     ]
    }
   ],
   "source": [
    "print len(LFPICSTrainNotPhasePathsAddrs)\n",
    "print len(LFPICSTrainPhasePathsAddrs)\n",
    "\n",
    "print len(LFPICSValidationNotPhasePathsAddrs)\n",
    "print len(LFPICSValidationPhasePathsAddrs)"
   ]
  },
  {
   "cell_type": "code",
   "execution_count": 53,
   "metadata": {},
   "outputs": [],
   "source": [
    "for files in LFPICSValidationPhasePathsAddrs:\n",
    "    shutil.move(files,'/Users/Steini/Klosta Group/phaseSeparation/Data/LFPICSValidation1')"
   ]
  },
  {
   "cell_type": "code",
   "execution_count": null,
   "metadata": {},
   "outputs": [],
   "source": []
  }
 ],
 "metadata": {
  "kernelspec": {
   "display_name": "Python 2",
   "language": "python",
   "name": "python2"
  },
  "language_info": {
   "codemirror_mode": {
    "name": "ipython",
    "version": 2
   },
   "file_extension": ".py",
   "mimetype": "text/x-python",
   "name": "python",
   "nbconvert_exporter": "python",
   "pygments_lexer": "ipython2",
   "version": "2.7.15"
  }
 },
 "nbformat": 4,
 "nbformat_minor": 2
}
